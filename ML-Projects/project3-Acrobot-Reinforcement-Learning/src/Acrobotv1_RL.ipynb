{
  "nbformat": 4,
  "nbformat_minor": 0,
  "metadata": {
    "colab": {
      "provenance": []
    },
    "kernelspec": {
      "name": "python3",
      "display_name": "Python 3"
    },
    "language_info": {
      "name": "python"
    }
  },
  "cells": [
    {
      "cell_type": "code",
      "execution_count": null,
      "metadata": {
        "colab": {
          "base_uri": "https://localhost:8080/"
        },
        "id": "TW2e-pU9_-VP",
        "outputId": "253806f1-0150-4755-e0df-6e5500ceffcd"
      },
      "outputs": [
        {
          "output_type": "stream",
          "name": "stdout",
          "text": [
            "Looking in indexes: https://pypi.org/simple, https://us-python.pkg.dev/colab-wheels/public/simple/\n",
            "Requirement already satisfied: gym in /usr/local/lib/python3.8/dist-packages (0.25.2)\n",
            "Requirement already satisfied: gym-notices>=0.0.4 in /usr/local/lib/python3.8/dist-packages (from gym) (0.0.8)\n",
            "Requirement already satisfied: numpy>=1.18.0 in /usr/local/lib/python3.8/dist-packages (from gym) (1.21.6)\n",
            "Requirement already satisfied: importlib-metadata>=4.8.0 in /usr/local/lib/python3.8/dist-packages (from gym) (4.13.0)\n",
            "Requirement already satisfied: cloudpickle>=1.2.0 in /usr/local/lib/python3.8/dist-packages (from gym) (1.5.0)\n",
            "Requirement already satisfied: zipp>=0.5 in /usr/local/lib/python3.8/dist-packages (from importlib-metadata>=4.8.0->gym) (3.11.0)\n",
            "Looking in indexes: https://pypi.org/simple, https://us-python.pkg.dev/colab-wheels/public/simple/\n",
            "Requirement already satisfied: gym[classic_control] in /usr/local/lib/python3.8/dist-packages (0.25.2)\n",
            "Requirement already satisfied: importlib-metadata>=4.8.0 in /usr/local/lib/python3.8/dist-packages (from gym[classic_control]) (4.13.0)\n",
            "Requirement already satisfied: cloudpickle>=1.2.0 in /usr/local/lib/python3.8/dist-packages (from gym[classic_control]) (1.5.0)\n",
            "Requirement already satisfied: numpy>=1.18.0 in /usr/local/lib/python3.8/dist-packages (from gym[classic_control]) (1.21.6)\n",
            "Requirement already satisfied: gym-notices>=0.0.4 in /usr/local/lib/python3.8/dist-packages (from gym[classic_control]) (0.0.8)\n",
            "Requirement already satisfied: pygame==2.1.0 in /usr/local/lib/python3.8/dist-packages (from gym[classic_control]) (2.1.0)\n",
            "Requirement already satisfied: zipp>=0.5 in /usr/local/lib/python3.8/dist-packages (from importlib-metadata>=4.8.0->gym[classic_control]) (3.11.0)\n"
          ]
        }
      ],
      "source": [
        "!pip install gym\n",
        "!pip install gym[classic_control]"
      ]
    },
    {
      "cell_type": "code",
      "source": [
        "# Run this to install tensorflow version 1.9\n",
        "!pip install tensorflow"
      ],
      "metadata": {
        "colab": {
          "base_uri": "https://localhost:8080/"
        },
        "id": "h8IClSoiA2Oi",
        "outputId": "033d54bf-55a5-45bd-86e9-54db26d36431"
      },
      "execution_count": null,
      "outputs": [
        {
          "output_type": "stream",
          "name": "stdout",
          "text": [
            "Looking in indexes: https://pypi.org/simple, https://us-python.pkg.dev/colab-wheels/public/simple/\n",
            "Requirement already satisfied: tensorflow in /usr/local/lib/python3.8/dist-packages (2.2.0)\n",
            "Requirement already satisfied: six>=1.12.0 in /usr/local/lib/python3.8/dist-packages (from tensorflow) (1.15.0)\n",
            "Requirement already satisfied: gast==0.3.3 in /usr/local/lib/python3.8/dist-packages (from tensorflow) (0.3.3)\n",
            "Requirement already satisfied: wheel>=0.26 in /usr/local/lib/python3.8/dist-packages (from tensorflow) (0.38.4)\n",
            "Requirement already satisfied: h5py<2.11.0,>=2.10.0 in /usr/local/lib/python3.8/dist-packages (from tensorflow) (2.10.0)\n",
            "Requirement already satisfied: keras-preprocessing>=1.1.0 in /usr/local/lib/python3.8/dist-packages (from tensorflow) (1.1.2)\n",
            "Requirement already satisfied: protobuf>=3.8.0 in /usr/local/lib/python3.8/dist-packages (from tensorflow) (3.19.6)\n",
            "Requirement already satisfied: tensorflow-estimator<2.3.0,>=2.2.0 in /usr/local/lib/python3.8/dist-packages (from tensorflow) (2.2.0)\n",
            "Requirement already satisfied: scipy==1.4.1 in /usr/local/lib/python3.8/dist-packages (from tensorflow) (1.4.1)\n",
            "Requirement already satisfied: google-pasta>=0.1.8 in /usr/local/lib/python3.8/dist-packages (from tensorflow) (0.2.0)\n",
            "Requirement already satisfied: tensorboard<2.3.0,>=2.2.0 in /usr/local/lib/python3.8/dist-packages (from tensorflow) (2.2.2)\n",
            "Requirement already satisfied: absl-py>=0.7.0 in /usr/local/lib/python3.8/dist-packages (from tensorflow) (1.3.0)\n",
            "Requirement already satisfied: termcolor>=1.1.0 in /usr/local/lib/python3.8/dist-packages (from tensorflow) (2.1.1)\n",
            "Requirement already satisfied: grpcio>=1.8.6 in /usr/local/lib/python3.8/dist-packages (from tensorflow) (1.51.1)\n",
            "Requirement already satisfied: opt-einsum>=2.3.2 in /usr/local/lib/python3.8/dist-packages (from tensorflow) (3.3.0)\n",
            "Requirement already satisfied: astunparse==1.6.3 in /usr/local/lib/python3.8/dist-packages (from tensorflow) (1.6.3)\n",
            "Requirement already satisfied: numpy<2.0,>=1.16.0 in /usr/local/lib/python3.8/dist-packages (from tensorflow) (1.21.6)\n",
            "Requirement already satisfied: wrapt>=1.11.1 in /usr/local/lib/python3.8/dist-packages (from tensorflow) (1.14.1)\n",
            "Requirement already satisfied: setuptools>=41.0.0 in /usr/local/lib/python3.8/dist-packages (from tensorboard<2.3.0,>=2.2.0->tensorflow) (57.4.0)\n",
            "Requirement already satisfied: google-auth-oauthlib<0.5,>=0.4.1 in /usr/local/lib/python3.8/dist-packages (from tensorboard<2.3.0,>=2.2.0->tensorflow) (0.4.6)\n",
            "Requirement already satisfied: werkzeug>=0.11.15 in /usr/local/lib/python3.8/dist-packages (from tensorboard<2.3.0,>=2.2.0->tensorflow) (1.0.1)\n",
            "Requirement already satisfied: google-auth<2,>=1.6.3 in /usr/local/lib/python3.8/dist-packages (from tensorboard<2.3.0,>=2.2.0->tensorflow) (1.35.0)\n",
            "Requirement already satisfied: requests<3,>=2.21.0 in /usr/local/lib/python3.8/dist-packages (from tensorboard<2.3.0,>=2.2.0->tensorflow) (2.23.0)\n",
            "Requirement already satisfied: tensorboard-plugin-wit>=1.6.0 in /usr/local/lib/python3.8/dist-packages (from tensorboard<2.3.0,>=2.2.0->tensorflow) (1.8.1)\n",
            "Requirement already satisfied: markdown>=2.6.8 in /usr/local/lib/python3.8/dist-packages (from tensorboard<2.3.0,>=2.2.0->tensorflow) (3.4.1)\n",
            "Requirement already satisfied: cachetools<5.0,>=2.0.0 in /usr/local/lib/python3.8/dist-packages (from google-auth<2,>=1.6.3->tensorboard<2.3.0,>=2.2.0->tensorflow) (4.2.4)\n",
            "Requirement already satisfied: rsa<5,>=3.1.4 in /usr/local/lib/python3.8/dist-packages (from google-auth<2,>=1.6.3->tensorboard<2.3.0,>=2.2.0->tensorflow) (4.9)\n",
            "Requirement already satisfied: pyasn1-modules>=0.2.1 in /usr/local/lib/python3.8/dist-packages (from google-auth<2,>=1.6.3->tensorboard<2.3.0,>=2.2.0->tensorflow) (0.2.8)\n",
            "Requirement already satisfied: requests-oauthlib>=0.7.0 in /usr/local/lib/python3.8/dist-packages (from google-auth-oauthlib<0.5,>=0.4.1->tensorboard<2.3.0,>=2.2.0->tensorflow) (1.3.1)\n",
            "Requirement already satisfied: importlib-metadata>=4.4 in /usr/local/lib/python3.8/dist-packages (from markdown>=2.6.8->tensorboard<2.3.0,>=2.2.0->tensorflow) (4.13.0)\n",
            "Requirement already satisfied: zipp>=0.5 in /usr/local/lib/python3.8/dist-packages (from importlib-metadata>=4.4->markdown>=2.6.8->tensorboard<2.3.0,>=2.2.0->tensorflow) (3.11.0)\n",
            "Requirement already satisfied: pyasn1<0.5.0,>=0.4.6 in /usr/local/lib/python3.8/dist-packages (from pyasn1-modules>=0.2.1->google-auth<2,>=1.6.3->tensorboard<2.3.0,>=2.2.0->tensorflow) (0.4.8)\n",
            "Requirement already satisfied: chardet<4,>=3.0.2 in /usr/local/lib/python3.8/dist-packages (from requests<3,>=2.21.0->tensorboard<2.3.0,>=2.2.0->tensorflow) (3.0.4)\n",
            "Requirement already satisfied: idna<3,>=2.5 in /usr/local/lib/python3.8/dist-packages (from requests<3,>=2.21.0->tensorboard<2.3.0,>=2.2.0->tensorflow) (2.10)\n",
            "Requirement already satisfied: certifi>=2017.4.17 in /usr/local/lib/python3.8/dist-packages (from requests<3,>=2.21.0->tensorboard<2.3.0,>=2.2.0->tensorflow) (2022.9.24)\n",
            "Requirement already satisfied: urllib3!=1.25.0,!=1.25.1,<1.26,>=1.21.1 in /usr/local/lib/python3.8/dist-packages (from requests<3,>=2.21.0->tensorboard<2.3.0,>=2.2.0->tensorflow) (1.24.3)\n",
            "Requirement already satisfied: oauthlib>=3.0.0 in /usr/local/lib/python3.8/dist-packages (from requests-oauthlib>=0.7.0->google-auth-oauthlib<0.5,>=0.4.1->tensorboard<2.3.0,>=2.2.0->tensorflow) (3.2.2)\n"
          ]
        }
      ]
    },
    {
      "cell_type": "code",
      "source": [
        "import gym\n",
        "import random\n",
        "import numpy as np\n",
        "import tensorflow.compat.v1 as tf\n",
        "tf.disable_v2_behavior()\n",
        "from collections import deque\n",
        "print(\"Gym:\", gym.__version__)\n",
        "print(\"Tensorflow:\", tf.__version__)\n"
      ],
      "metadata": {
        "colab": {
          "base_uri": "https://localhost:8080/"
        },
        "id": "ZwqkDVN66UTt",
        "outputId": "c7e3c978-8897-4575-acc3-67e96eb13320"
      },
      "execution_count": null,
      "outputs": [
        {
          "output_type": "stream",
          "name": "stderr",
          "text": [
            "/usr/local/lib/python3.8/dist-packages/tensorflow/python/framework/dtypes.py:513: DeprecationWarning: `np.object` is a deprecated alias for the builtin `object`. To silence this warning, use `object` by itself. Doing this will not modify any behavior and is safe. \n",
            "Deprecated in NumPy 1.20; for more details and guidance: https://numpy.org/devdocs/release/1.20.0-notes.html#deprecations\n",
            "  np.object,\n",
            "/usr/local/lib/python3.8/dist-packages/tensorflow/python/framework/dtypes.py:521: DeprecationWarning: `np.bool` is a deprecated alias for the builtin `bool`. To silence this warning, use `bool` by itself. Doing this will not modify any behavior and is safe. If you specifically wanted the numpy scalar type, use `np.bool_` here.\n",
            "Deprecated in NumPy 1.20; for more details and guidance: https://numpy.org/devdocs/release/1.20.0-notes.html#deprecations\n",
            "  np.bool,\n",
            "/usr/local/lib/python3.8/dist-packages/tensorflow/python/framework/tensor_util.py:106: DeprecationWarning: `np.object` is a deprecated alias for the builtin `object`. To silence this warning, use `object` by itself. Doing this will not modify any behavior and is safe. \n",
            "Deprecated in NumPy 1.20; for more details and guidance: https://numpy.org/devdocs/release/1.20.0-notes.html#deprecations\n",
            "  np.object:\n",
            "/usr/local/lib/python3.8/dist-packages/tensorflow/python/framework/tensor_util.py:108: DeprecationWarning: `np.bool` is a deprecated alias for the builtin `bool`. To silence this warning, use `bool` by itself. Doing this will not modify any behavior and is safe. If you specifically wanted the numpy scalar type, use `np.bool_` here.\n",
            "Deprecated in NumPy 1.20; for more details and guidance: https://numpy.org/devdocs/release/1.20.0-notes.html#deprecations\n",
            "  np.bool:\n",
            "/usr/local/lib/python3.8/dist-packages/h5py/__init__.py:46: DeprecationWarning: `np.typeDict` is a deprecated alias for `np.sctypeDict`.\n",
            "  from ._conv import register_converters as _register_converters\n",
            "/usr/local/lib/python3.8/dist-packages/scipy/fft/__init__.py:97: DeprecationWarning: The module numpy.dual is deprecated.  Instead of using dual, use the functions directly from numpy or scipy.\n",
            "  from numpy.dual import register_func\n",
            "/usr/local/lib/python3.8/dist-packages/scipy/sparse/sputils.py:17: DeprecationWarning: `np.typeDict` is a deprecated alias for `np.sctypeDict`.\n",
            "  supported_dtypes = [np.typeDict[x] for x in supported_dtypes]\n",
            "/usr/local/lib/python3.8/dist-packages/tensorboard/compat/tensorflow_stub/dtypes.py:572: DeprecationWarning: `np.object` is a deprecated alias for the builtin `object`. To silence this warning, use `object` by itself. Doing this will not modify any behavior and is safe. \n",
            "Deprecated in NumPy 1.20; for more details and guidance: https://numpy.org/devdocs/release/1.20.0-notes.html#deprecations\n",
            "  (np.object, string),\n",
            "/usr/local/lib/python3.8/dist-packages/tensorboard/compat/tensorflow_stub/dtypes.py:573: DeprecationWarning: `np.bool` is a deprecated alias for the builtin `bool`. To silence this warning, use `bool` by itself. Doing this will not modify any behavior and is safe. If you specifically wanted the numpy scalar type, use `np.bool_` here.\n",
            "Deprecated in NumPy 1.20; for more details and guidance: https://numpy.org/devdocs/release/1.20.0-notes.html#deprecations\n",
            "  (np.bool, bool),\n",
            "/usr/local/lib/python3.8/dist-packages/tensorboard/util/tensor_util.py:111: DeprecationWarning: `np.object` is a deprecated alias for the builtin `object`. To silence this warning, use `object` by itself. Doing this will not modify any behavior and is safe. \n",
            "Deprecated in NumPy 1.20; for more details and guidance: https://numpy.org/devdocs/release/1.20.0-notes.html#deprecations\n",
            "  np.object: SlowAppendObjectArrayToTensorProto,\n",
            "/usr/local/lib/python3.8/dist-packages/tensorboard/util/tensor_util.py:112: DeprecationWarning: `np.bool` is a deprecated alias for the builtin `bool`. To silence this warning, use `bool` by itself. Doing this will not modify any behavior and is safe. If you specifically wanted the numpy scalar type, use `np.bool_` here.\n",
            "Deprecated in NumPy 1.20; for more details and guidance: https://numpy.org/devdocs/release/1.20.0-notes.html#deprecations\n",
            "  np.bool: SlowAppendBoolArrayToTensorProto,\n",
            "WARNING:tensorflow:From /usr/local/lib/python3.8/dist-packages/tensorflow/python/compat/v2_compat.py:96: disable_resource_variables (from tensorflow.python.ops.variable_scope) is deprecated and will be removed in a future version.\n",
            "Instructions for updating:\n",
            "non-resource variables are not supported in the long term\n"
          ]
        },
        {
          "output_type": "stream",
          "name": "stdout",
          "text": [
            "Gym: 0.25.2\n",
            "Tensorflow: 2.2.0\n"
          ]
        }
      ]
    },
    {
      "cell_type": "code",
      "source": [
        "class QNetwork():\n",
        "    def __init__(self, state_dim, action_size, tau=0.01):\n",
        "        tf.compat.v1.reset_default_graph()\n",
        "        self.state_in = tf.placeholder(tf.float32, shape=[None, *state_dim])\n",
        "        self.action_in = tf.placeholder(tf.int32, shape=[None])\n",
        "        self.q_target_in = tf.placeholder(tf.float32, shape=[None])\n",
        "        self.importance_in = tf.placeholder(tf.float32, shape=[None])\n",
        "        action_one_hot = tf.one_hot(self.action_in, depth=action_size)\n",
        "\n",
        "        self.q_state_local = self.build_model(action_size, \"local\")\n",
        "        self.q_state_target = self.build_model(action_size, \"target\")\n",
        "\n",
        "        self.q_state_action = tf.reduce_sum(tf.multiply(self.q_state_local, action_one_hot), axis=1)\n",
        "        self.error = self.q_state_action - self.q_target_in\n",
        "        self.loss = tf.reduce_mean(tf.multiply(tf.square(self.error), self.importance_in))\n",
        "        self.optimizer = tf.train.AdamOptimizer(learning_rate=0.001).minimize(self.loss)\n",
        "\n",
        "        self.local_vars = tf.get_collection(tf.GraphKeys.TRAINABLE_VARIABLES, scope=\"local\")\n",
        "        self.target_vars = tf.get_collection(tf.GraphKeys.TRAINABLE_VARIABLES, scope=\"target\")\n",
        "        self.updater = tf.group([tf.assign(t, t + tau*(l-t)) for t,l in zip(self.target_vars, self.local_vars)])\n",
        "\n",
        "    def build_model(self, action_size, scope):\n",
        "        with tf.variable_scope(scope):\n",
        "            hidden1 = tf.layers.dense(self.state_in, 100, activation=tf.nn.relu)\n",
        "            q_state = tf.layers.dense(hidden1, action_size, activation=None)\n",
        "            return q_state\n",
        "\n",
        "    def update_model(self, session, state, action, q_target, importance):\n",
        "        feed = {self.state_in: state, self.action_in: action, self.q_target_in: q_target, self.importance_in: importance}\n",
        "        error, _, _ = session.run([self.error, self.optimizer, self.updater], feed_dict=feed)\n",
        "        return error\n",
        "\n",
        "    def get_q_state(self, session, state, use_target=False):\n",
        "        q_state_op = self.q_state_target if use_target else self.q_state_local\n",
        "        q_state = session.run(q_state_op, feed_dict={self.state_in: state})\n",
        "        return q_state\n"
      ],
      "metadata": {
        "id": "B0TbJQ0c6skO"
      },
      "execution_count": null,
      "outputs": []
    },
    {
      "cell_type": "code",
      "source": [
        "class PrioritizedReplayBuffer():\n",
        "    def __init__(self, maxlen):\n",
        "        self.buffer = deque(maxlen=maxlen)\n",
        "        self.priorities = deque(maxlen=maxlen)\n",
        "\n",
        "    def add(self, experience):\n",
        "        self.buffer.append(experience)\n",
        "        self.priorities.append(max(self.priorities, default=1))\n",
        "\n",
        "    def get_probabilities(self, priority_scale):\n",
        "        scaled_priorities = np.array(self.priorities) ** priority_scale\n",
        "        sample_probabilities = scaled_priorities / sum(scaled_priorities)\n",
        "        return sample_probabilities\n",
        "\n",
        "    def get_importance(self, probabilities):\n",
        "        importance = 1/len(self.buffer) * 1/probabilities\n",
        "        importance_normalized = importance / max(importance)\n",
        "        return importance_normalized\n",
        "\n",
        "    def sample(self, batch_size, priority_scale=1.0):\n",
        "        sample_size = min(len(self.buffer), batch_size)\n",
        "        sample_probs = self.get_probabilities(priority_scale)\n",
        "        sample_indices = random.choices(range(len(self.buffer)), k=sample_size, weights=sample_probs)\n",
        "        samples = np.array(self.buffer)[sample_indices]\n",
        "        importance = self.get_importance(sample_probs[sample_indices])\n",
        "        return map(list, zip(*samples)), importance, sample_indices\n",
        "\n",
        "    def set_priorities(self, indices, errors, offset=0.1):\n",
        "        for i,e in zip(indices, errors):\n",
        "            self.priorities[i] = abs(e) + offset\n"
      ],
      "metadata": {
        "id": "pn3iluTH6vad"
      },
      "execution_count": null,
      "outputs": []
    },
    {
      "cell_type": "code",
      "source": [
        "class DoubleDQNAgent():\n",
        "    def __init__(self, env):\n",
        "        self.state_dim = env.observation_space.shape\n",
        "        self.action_size = env.action_space.n\n",
        "        self.q_network = QNetwork(self.state_dim, self.action_size)\n",
        "        self.replay_buffer = PrioritizedReplayBuffer(maxlen=100000)\n",
        "        self.gamma = 0.97\n",
        "        self.eps = 1.0\n",
        "\n",
        "        self.sess = tf.Session()\n",
        "        self.sess.run(tf.global_variables_initializer())\n",
        "\n",
        "    def get_action(self, state):\n",
        "        q_state = self.q_network.get_q_state(self.sess, [state])\n",
        "        action_greedy = np.argmax(q_state)\n",
        "        action_random = np.random.randint(self.action_size)\n",
        "        action = action_random if random.random() < self.eps else action_greedy\n",
        "        return action\n",
        "\n",
        "    def get_env_action(self, action):\n",
        "        return action\n",
        "\n",
        "    def train(self, state, action, next_state, reward, done, use_DDQN=True, a=0.0):\n",
        "        self.replay_buffer.add((state, action, next_state, reward, done))\n",
        "        (states, actions, next_states, rewards, dones), importance, indices = self.replay_buffer.sample(50, priority_scale=a)\n",
        "\n",
        "        next_actions = np.argmax(self.q_network.get_q_state(self.sess, next_states, use_target=False), axis=1)\n",
        "        q_next_states = self.q_network.get_q_state(self.sess, next_states, use_target=use_DDQN)\n",
        "        q_next_states[dones] = np.zeros([self.action_size])\n",
        "        q_next_states_next_actions = q_next_states[np.arange(next_actions.shape[0]), next_actions]\n",
        "        q_targets = rewards + self.gamma * q_next_states_next_actions\n",
        "        errors = self.q_network.update_model(self.sess, states, actions, q_targets, importance**(1-self.eps))\n",
        "\n",
        "        self.replay_buffer.set_priorities(indices, errors)\n",
        "\n",
        "        if done: self.eps = max(0.1, 0.98*self.eps)\n",
        "\n",
        "    def __del__(self):\n",
        "        self.sess.close()\n",
        ""
      ],
      "metadata": {
        "id": "MQvQ6IvS6wFa"
      },
      "execution_count": null,
      "outputs": []
    },
    {
      "cell_type": "code",
      "source": [
        "import matplotlib.pyplot as plt\n",
        "\n",
        "class AcrobotVisualizer:\n",
        "    def __init__(self, q_network):\n",
        "        self.q_network = q_network\n",
        "        self.errors = []\n",
        "\n",
        "    def visualize_error_propagation(self):\n",
        "        plt.plot(self.errors)\n",
        "        plt.xlabel('Episode')\n",
        "        plt.ylabel('Error')\n",
        "        plt.show()\n",
        "\n",
        "    def on_episode_end(self, episode, error):\n",
        "        self.errors.append(error)\n",
        "        self.visualize_error_propagation()\n",
        "\n",
        "acrobot_visualizer = AcrobotVisualizer(q_network)\n",
        "\n",
        "# Later, in your training loop:\n",
        "error = ... # compute the error for the current episode\n",
        "acrobot_visualizer.on_episode_end(episode, error)\n"
      ],
      "metadata": {
        "id": "m6SsInT1S6td"
      },
      "execution_count": null,
      "outputs": []
    },
    {
      "cell_type": "code",
      "source": [
        "env = gym.make(\"Acrobot-v1\")\n",
        "print(\"Observation space:\", env.observation_space)\n",
        "print(\"Action space:\", env.action_space)\n"
      ],
      "metadata": {
        "colab": {
          "base_uri": "https://localhost:8080/"
        },
        "id": "loCL08Q460l5",
        "outputId": "e89a1771-264b-4c91-9b28-82ae1f4e3fc2"
      },
      "execution_count": null,
      "outputs": [
        {
          "output_type": "stream",
          "name": "stdout",
          "text": [
            "Observation space: Box([ -1.        -1.        -1.        -1.       -12.566371 -28.274334], [ 1.        1.        1.        1.       12.566371 28.274334], (6,), float32)\n",
            "Action space: Discrete(3)\n"
          ]
        },
        {
          "output_type": "stream",
          "name": "stderr",
          "text": [
            "/usr/local/lib/python3.8/dist-packages/gym/core.py:317: DeprecationWarning: \u001b[33mWARN: Initializing wrapper in old step API which returns one bool instead of two. It is recommended to set `new_step_api=True` to use new step API. This will be the default behaviour in future.\u001b[0m\n",
            "  deprecation(\n",
            "/usr/local/lib/python3.8/dist-packages/gym/wrappers/step_api_compatibility.py:39: DeprecationWarning: \u001b[33mWARN: Initializing environment in old step API which returns one bool instead of two. It is recommended to set `new_step_api=True` to use new step API. This will be the default behaviour in future.\u001b[0m\n",
            "  deprecation(\n"
          ]
        }
      ]
    },
    {
      "cell_type": "code",
      "source": [
        "!apt install xvfb -y\n",
        "!pip install pyvirtualdisplay"
      ],
      "metadata": {
        "colab": {
          "base_uri": "https://localhost:8080/"
        },
        "id": "1z2k68ew-8Ey",
        "outputId": "d080ec64-1bb9-4d25-9c7e-22db07c90e74"
      },
      "execution_count": null,
      "outputs": [
        {
          "output_type": "stream",
          "name": "stdout",
          "text": [
            "Reading package lists... Done\n",
            "Building dependency tree       \n",
            "Reading state information... Done\n",
            "xvfb is already the newest version (2:1.19.6-1ubuntu4.12).\n",
            "The following package was automatically installed and is no longer required:\n",
            "  libnvidia-common-460\n",
            "Use 'apt autoremove' to remove it.\n",
            "0 upgraded, 0 newly installed, 0 to remove and 20 not upgraded.\n",
            "Looking in indexes: https://pypi.org/simple, https://us-python.pkg.dev/colab-wheels/public/simple/\n",
            "Requirement already satisfied: pyvirtualdisplay in /usr/local/lib/python3.8/dist-packages (3.0)\n"
          ]
        }
      ]
    },
    {
      "cell_type": "code",
      "source": [
        "# Creates a virtual display in CoLab. May not be necessary if locally installed.\n",
        "from pyvirtualdisplay import Display\n",
        "display = Display(visible=0, size=(1400, 900))\n",
        "display.start()"
      ],
      "metadata": {
        "colab": {
          "base_uri": "https://localhost:8080/"
        },
        "id": "Rzm_H-f0-_TF",
        "outputId": "b07b346d-5543-49ef-f7c6-a7ddef1b59fb"
      },
      "execution_count": null,
      "outputs": [
        {
          "output_type": "execute_result",
          "data": {
            "text/plain": [
              "<pyvirtualdisplay.display.Display at 0x7fe135f18940>"
            ]
          },
          "metadata": {},
          "execution_count": 9
        }
      ]
    },
    {
      "cell_type": "code",
      "source": [
        "num_runs = 1\n",
        "run_rewards = []\n",
        "\n",
        "for n in range(num_runs):\n",
        "    print(\"Run {}\".format(n))\n",
        "    ep_rewards = []\n",
        "    agent = None\n",
        "    agent = DoubleDQNAgent(env)\n",
        "    num_episodes = 100\n",
        "\n",
        "    for ep in range(num_episodes):\n",
        "        state = env.reset()\n",
        "        total_reward = 0\n",
        "        done = False\n",
        "        while not done:\n",
        "            action = agent.get_action(state)\n",
        "            next_state, reward, done, info = env.step(action)\n",
        "            agent.train(state, action, next_state, reward, done, a=0.7)\n",
        "            env.render()\n",
        "            total_reward += reward\n",
        "            state = next_state\n",
        "\n",
        "        ep_rewards.append(total_reward)\n",
        "        print(\"Episode: {}, total_reward: {:.2f}\".format(ep, total_reward))\n",
        "\n",
        "    run_rewards.append(ep_rewards)\n"
      ],
      "metadata": {
        "colab": {
          "base_uri": "https://localhost:8080/"
        },
        "id": "aI6LLiq-6_PP",
        "outputId": "1ea778f7-437e-41bf-fab4-333734ee157f"
      },
      "execution_count": null,
      "outputs": [
        {
          "output_type": "stream",
          "name": "stderr",
          "text": [
            "WARNING:tensorflow:From <ipython-input-4-f4f5fc55af0b>:24: dense (from tensorflow.python.layers.core) is deprecated and will be removed in a future version.\n",
            "Instructions for updating:\n",
            "Use keras.layers.Dense instead.\n",
            "WARNING:tensorflow:From /usr/local/lib/python3.8/dist-packages/tensorflow/python/layers/core.py:187: Layer.apply (from tensorflow.python.keras.engine.base_layer_v1) is deprecated and will be removed in a future version.\n",
            "Instructions for updating:\n",
            "Please use `layer.__call__` method instead.\n"
          ]
        },
        {
          "output_type": "stream",
          "name": "stdout",
          "text": [
            "Run 0\n"
          ]
        },
        {
          "output_type": "stream",
          "name": "stderr",
          "text": [
            "/usr/local/lib/python3.8/dist-packages/tensorflow/python/ops/variable_scope.py:453: DeprecationWarning: Using or importing the ABCs from 'collections' instead of from 'collections.abc' is deprecated since Python 3.3, and in 3.10 it will stop working\n",
            "  shape is not None and isinstance(shape, collections_lib.Sequence) and\n",
            "/usr/local/lib/python3.8/dist-packages/tensorflow/python/framework/tensor_util.py:523: DeprecationWarning: tostring() is deprecated. Use tobytes() instead.\n",
            "  tensor_proto.tensor_content = nparray.tostring()\n",
            "<ipython-input-5-b4d7a37aec8f>:24: VisibleDeprecationWarning: Creating an ndarray from ragged nested sequences (which is a list-or-tuple of lists-or-tuples-or ndarrays with different lengths or shapes) is deprecated. If you meant to do this, you must specify 'dtype=object' when creating the ndarray.\n",
            "  samples = np.array(self.buffer)[sample_indices]\n",
            "/usr/local/lib/python3.8/dist-packages/gym/core.py:49: DeprecationWarning: \u001b[33mWARN: You are calling render method, but you didn't specified the argument render_mode at environment initialization. To maintain backward compatibility, the environment will render in human mode.\n",
            "If you want to render in human mode, initialize the environment in this way: gym.make('EnvName', render_mode='human') and don't call the render method.\n",
            "See here for more information: https://www.gymlibrary.ml/content/api/\u001b[0m\n",
            "  deprecation(\n"
          ]
        },
        {
          "output_type": "stream",
          "name": "stdout",
          "text": [
            "Episode: 0, total_reward: -500.00\n",
            "Episode: 1, total_reward: -500.00\n",
            "Episode: 2, total_reward: -500.00\n",
            "Episode: 3, total_reward: -500.00\n",
            "Episode: 4, total_reward: -500.00\n",
            "Episode: 5, total_reward: -500.00\n",
            "Episode: 6, total_reward: -500.00\n",
            "Episode: 7, total_reward: -500.00\n",
            "Episode: 8, total_reward: -500.00\n",
            "Episode: 9, total_reward: -500.00\n",
            "Episode: 10, total_reward: -486.00\n",
            "Episode: 11, total_reward: -500.00\n",
            "Episode: 12, total_reward: -500.00\n",
            "Episode: 13, total_reward: -472.00\n",
            "Episode: 14, total_reward: -458.00\n",
            "Episode: 15, total_reward: -446.00\n",
            "Episode: 16, total_reward: -500.00\n",
            "Episode: 17, total_reward: -439.00\n",
            "Episode: 18, total_reward: -351.00\n",
            "Episode: 19, total_reward: -423.00\n",
            "Episode: 20, total_reward: -381.00\n",
            "Episode: 21, total_reward: -378.00\n",
            "Episode: 22, total_reward: -500.00\n",
            "Episode: 23, total_reward: -225.00\n",
            "Episode: 24, total_reward: -360.00\n",
            "Episode: 25, total_reward: -388.00\n",
            "Episode: 26, total_reward: -357.00\n",
            "Episode: 27, total_reward: -331.00\n",
            "Episode: 28, total_reward: -235.00\n",
            "Episode: 29, total_reward: -324.00\n",
            "Episode: 30, total_reward: -320.00\n",
            "Episode: 31, total_reward: -298.00\n",
            "Episode: 32, total_reward: -266.00\n",
            "Episode: 33, total_reward: -246.00\n",
            "Episode: 34, total_reward: -233.00\n",
            "Episode: 35, total_reward: -249.00\n",
            "Episode: 36, total_reward: -417.00\n",
            "Episode: 37, total_reward: -256.00\n",
            "Episode: 38, total_reward: -256.00\n",
            "Episode: 39, total_reward: -456.00\n",
            "Episode: 40, total_reward: -256.00\n",
            "Episode: 41, total_reward: -168.00\n",
            "Episode: 42, total_reward: -194.00\n",
            "Episode: 43, total_reward: -245.00\n",
            "Episode: 44, total_reward: -274.00\n",
            "Episode: 45, total_reward: -238.00\n",
            "Episode: 46, total_reward: -127.00\n",
            "Episode: 47, total_reward: -209.00\n",
            "Episode: 48, total_reward: -199.00\n",
            "Episode: 49, total_reward: -195.00\n",
            "Episode: 50, total_reward: -170.00\n",
            "Episode: 51, total_reward: -280.00\n",
            "Episode: 52, total_reward: -107.00\n",
            "Episode: 53, total_reward: -197.00\n",
            "Episode: 54, total_reward: -173.00\n",
            "Episode: 55, total_reward: -257.00\n",
            "Episode: 56, total_reward: -162.00\n",
            "Episode: 57, total_reward: -158.00\n",
            "Episode: 58, total_reward: -163.00\n",
            "Episode: 59, total_reward: -172.00\n",
            "Episode: 60, total_reward: -158.00\n",
            "Episode: 61, total_reward: -143.00\n",
            "Episode: 62, total_reward: -113.00\n",
            "Episode: 63, total_reward: -172.00\n",
            "Episode: 64, total_reward: -94.00\n",
            "Episode: 65, total_reward: -165.00\n",
            "Episode: 66, total_reward: -265.00\n",
            "Episode: 67, total_reward: -120.00\n",
            "Episode: 68, total_reward: -127.00\n",
            "Episode: 69, total_reward: -217.00\n",
            "Episode: 70, total_reward: -248.00\n",
            "Episode: 71, total_reward: -200.00\n",
            "Episode: 72, total_reward: -101.00\n",
            "Episode: 73, total_reward: -154.00\n",
            "Episode: 74, total_reward: -117.00\n",
            "Episode: 75, total_reward: -94.00\n",
            "Episode: 76, total_reward: -258.00\n",
            "Episode: 77, total_reward: -126.00\n",
            "Episode: 78, total_reward: -175.00\n",
            "Episode: 79, total_reward: -156.00\n",
            "Episode: 80, total_reward: -159.00\n",
            "Episode: 81, total_reward: -107.00\n",
            "Episode: 82, total_reward: -135.00\n",
            "Episode: 83, total_reward: -109.00\n",
            "Episode: 84, total_reward: -147.00\n",
            "Episode: 85, total_reward: -113.00\n",
            "Episode: 86, total_reward: -113.00\n",
            "Episode: 87, total_reward: -225.00\n",
            "Episode: 88, total_reward: -144.00\n",
            "Episode: 89, total_reward: -167.00\n",
            "Episode: 90, total_reward: -110.00\n",
            "Episode: 91, total_reward: -155.00\n",
            "Episode: 92, total_reward: -129.00\n",
            "Episode: 93, total_reward: -116.00\n",
            "Episode: 94, total_reward: -109.00\n",
            "Episode: 95, total_reward: -133.00\n",
            "Episode: 96, total_reward: -138.00\n",
            "Episode: 97, total_reward: -166.00\n",
            "Episode: 98, total_reward: -138.00\n",
            "Episode: 99, total_reward: -116.00\n"
          ]
        }
      ]
    },
    {
      "cell_type": "code",
      "source": [],
      "metadata": {
        "id": "SINuHmTqGZAM"
      },
      "execution_count": null,
      "outputs": []
    },
    {
      "cell_type": "code",
      "source": [
        "import matplotlib.pyplot as plt\n",
        "%matplotlib inline\n",
        "\n",
        "for n, ep_rewards in enumerate(run_rewards):\n",
        "    x = range(len(ep_rewards))\n",
        "    cumsum = np.cumsum(ep_rewards)\n",
        "    avgs = [cumsum[ep]/(ep+1) if ep<100 else (cumsum[ep]-cumsum[ep-100])/100 for ep in x]\n",
        "    plt.figure(figsize=(10,8))\n",
        "    plt.plot(x, avgs, label=n)\n",
        "\n",
        "plt.title(\"Double DQN w/ Priotrized Experience Replay\")\n",
        "plt.xlabel(\"Episode\")\n",
        "plt.ylabel(\"Reward\")\n",
        "plt.legend()\n"
      ],
      "metadata": {
        "colab": {
          "base_uri": "https://localhost:8080/",
          "height": 531
        },
        "id": "miEBWTve7ASk",
        "outputId": "0048d8d9-dc9f-4b62-8a31-744b9cb6e963"
      },
      "execution_count": null,
      "outputs": [
        {
          "output_type": "execute_result",
          "data": {
            "text/plain": [
              "<matplotlib.legend.Legend at 0x7fe12e676a60>"
            ]
          },
          "metadata": {},
          "execution_count": 11
        },
        {
          "output_type": "display_data",
          "data": {
            "text/plain": [
              "<Figure size 720x576 with 1 Axes>"
            ],
            "image/png": "[encoded data removed]"
          },
          "metadata": {
            "needs_background": "light"
          }
        }
      ]
    },
    {
      "cell_type": "code",
      "source": [],
      "metadata": {
        "id": "2juJYKkuS3U1"
      },
      "execution_count": null,
      "outputs": []
    },
    {
      "cell_type": "code",
      "source": [
        "num_runs = 2\n",
        "run_rewards = []\n",
        "\n",
        "for n in range(num_runs):\n",
        "    print(\"Run {}\".format(n))\n",
        "    ep_rewards = []\n",
        "    agent = None\n",
        "    agent = DoubleDQNAgent(env)\n",
        "    num_episodes = 100\n",
        "\n",
        "    for ep in range(num_episodes):\n",
        "        state = env.reset()\n",
        "        total_reward = 0\n",
        "        done = False\n",
        "        while not done:\n",
        "            action = agent.get_action(state)\n",
        "            next_state, reward, done, info = env.step(action)\n",
        "            agent.train(state, action, next_state, reward, done, a=0.7, use_DDQN=(n%2==0))\n",
        "            env.render()\n",
        "            total_reward += reward\n",
        "            state = next_state\n",
        "\n",
        "        ep_rewards.append(total_reward)\n",
        "        print(\"Episode: {}, total_reward: {:.2f}\".format(ep, total_reward))\n",
        "\n",
        "    run_rewards.append(ep_rewards)\n"
      ],
      "metadata": {
        "colab": {
          "base_uri": "https://localhost:8080/"
        },
        "id": "9K4Xk-ckpF0w",
        "outputId": "0271d421-6122-4857-8e95-a0c7624a8d6e"
      },
      "execution_count": null,
      "outputs": [
        {
          "output_type": "stream",
          "name": "stdout",
          "text": [
            "Run 0\n"
          ]
        },
        {
          "output_type": "stream",
          "name": "stderr",
          "text": [
            "<ipython-input-5-b4d7a37aec8f>:24: VisibleDeprecationWarning: Creating an ndarray from ragged nested sequences (which is a list-or-tuple of lists-or-tuples-or ndarrays with different lengths or shapes) is deprecated. If you meant to do this, you must specify 'dtype=object' when creating the ndarray.\n",
            "  samples = np.array(self.buffer)[sample_indices]\n"
          ]
        },
        {
          "output_type": "stream",
          "name": "stdout",
          "text": [
            "Episode: 0, total_reward: -500.00\n",
            "Episode: 1, total_reward: -500.00\n",
            "Episode: 2, total_reward: -500.00\n",
            "Episode: 3, total_reward: -500.00\n",
            "Episode: 4, total_reward: -500.00\n",
            "Episode: 5, total_reward: -500.00\n",
            "Episode: 6, total_reward: -500.00\n",
            "Episode: 7, total_reward: -499.00\n",
            "Episode: 8, total_reward: -500.00\n",
            "Episode: 9, total_reward: -500.00\n",
            "Episode: 10, total_reward: -437.00\n",
            "Episode: 11, total_reward: -500.00\n",
            "Episode: 12, total_reward: -500.00\n",
            "Episode: 13, total_reward: -500.00\n",
            "Episode: 14, total_reward: -500.00\n",
            "Episode: 15, total_reward: -500.00\n",
            "Episode: 16, total_reward: -335.00\n",
            "Episode: 17, total_reward: -345.00\n",
            "Episode: 18, total_reward: -500.00\n",
            "Episode: 19, total_reward: -320.00\n",
            "Episode: 20, total_reward: -327.00\n",
            "Episode: 21, total_reward: -404.00\n",
            "Episode: 22, total_reward: -427.00\n",
            "Episode: 23, total_reward: -228.00\n",
            "Episode: 24, total_reward: -349.00\n",
            "Episode: 25, total_reward: -248.00\n",
            "Episode: 26, total_reward: -421.00\n",
            "Episode: 27, total_reward: -500.00\n",
            "Episode: 28, total_reward: -331.00\n",
            "Episode: 29, total_reward: -253.00\n",
            "Episode: 30, total_reward: -293.00\n",
            "Episode: 31, total_reward: -495.00\n",
            "Episode: 32, total_reward: -221.00\n",
            "Episode: 33, total_reward: -265.00\n",
            "Episode: 34, total_reward: -194.00\n",
            "Episode: 35, total_reward: -246.00\n",
            "Episode: 36, total_reward: -296.00\n",
            "Episode: 37, total_reward: -237.00\n",
            "Episode: 38, total_reward: -205.00\n",
            "Episode: 39, total_reward: -204.00\n",
            "Episode: 40, total_reward: -203.00\n",
            "Episode: 41, total_reward: -206.00\n",
            "Episode: 42, total_reward: -220.00\n",
            "Episode: 43, total_reward: -173.00\n",
            "Episode: 44, total_reward: -258.00\n",
            "Episode: 45, total_reward: -275.00\n",
            "Episode: 46, total_reward: -279.00\n",
            "Episode: 47, total_reward: -158.00\n",
            "Episode: 48, total_reward: -246.00\n",
            "Episode: 49, total_reward: -434.00\n",
            "Episode: 50, total_reward: -500.00\n",
            "Episode: 51, total_reward: -187.00\n",
            "Episode: 52, total_reward: -222.00\n",
            "Episode: 53, total_reward: -181.00\n",
            "Episode: 54, total_reward: -279.00\n",
            "Episode: 55, total_reward: -272.00\n",
            "Episode: 56, total_reward: -207.00\n",
            "Episode: 57, total_reward: -298.00\n",
            "Episode: 58, total_reward: -156.00\n",
            "Episode: 59, total_reward: -165.00\n",
            "Episode: 60, total_reward: -154.00\n",
            "Episode: 61, total_reward: -176.00\n",
            "Episode: 62, total_reward: -170.00\n",
            "Episode: 63, total_reward: -128.00\n",
            "Episode: 64, total_reward: -151.00\n",
            "Episode: 65, total_reward: -279.00\n",
            "Episode: 66, total_reward: -161.00\n",
            "Episode: 67, total_reward: -246.00\n",
            "Episode: 68, total_reward: -129.00\n",
            "Episode: 69, total_reward: -77.00\n",
            "Episode: 70, total_reward: -131.00\n",
            "Episode: 71, total_reward: -115.00\n",
            "Episode: 72, total_reward: -139.00\n",
            "Episode: 73, total_reward: -131.00\n",
            "Episode: 74, total_reward: -143.00\n",
            "Episode: 75, total_reward: -123.00\n",
            "Episode: 76, total_reward: -107.00\n",
            "Episode: 77, total_reward: -148.00\n",
            "Episode: 78, total_reward: -115.00\n",
            "Episode: 79, total_reward: -190.00\n",
            "Episode: 80, total_reward: -124.00\n",
            "Episode: 81, total_reward: -105.00\n",
            "Episode: 82, total_reward: -159.00\n",
            "Episode: 83, total_reward: -196.00\n",
            "Episode: 84, total_reward: -138.00\n",
            "Episode: 85, total_reward: -124.00\n",
            "Episode: 86, total_reward: -127.00\n",
            "Episode: 87, total_reward: -158.00\n",
            "Episode: 88, total_reward: -129.00\n",
            "Episode: 89, total_reward: -334.00\n",
            "Episode: 90, total_reward: -152.00\n",
            "Episode: 91, total_reward: -139.00\n",
            "Episode: 92, total_reward: -130.00\n",
            "Episode: 93, total_reward: -128.00\n",
            "Episode: 94, total_reward: -168.00\n",
            "Episode: 95, total_reward: -119.00\n",
            "Episode: 96, total_reward: -110.00\n",
            "Episode: 97, total_reward: -129.00\n",
            "Episode: 98, total_reward: -128.00\n",
            "Episode: 99, total_reward: -117.00\n",
            "Run 1\n",
            "Episode: 0, total_reward: -340.00\n",
            "Episode: 1, total_reward: -500.00\n",
            "Episode: 2, total_reward: -500.00\n",
            "Episode: 3, total_reward: -500.00\n",
            "Episode: 4, total_reward: -491.00\n",
            "Episode: 5, total_reward: -500.00\n",
            "Episode: 6, total_reward: -500.00\n",
            "Episode: 7, total_reward: -500.00\n",
            "Episode: 8, total_reward: -500.00\n",
            "Episode: 9, total_reward: -500.00\n",
            "Episode: 10, total_reward: -500.00\n",
            "Episode: 11, total_reward: -500.00\n",
            "Episode: 12, total_reward: -500.00\n",
            "Episode: 13, total_reward: -243.00\n",
            "Episode: 14, total_reward: -500.00\n",
            "Episode: 15, total_reward: -500.00\n",
            "Episode: 16, total_reward: -500.00\n",
            "Episode: 17, total_reward: -500.00\n",
            "Episode: 18, total_reward: -500.00\n",
            "Episode: 19, total_reward: -332.00\n",
            "Episode: 20, total_reward: -500.00\n",
            "Episode: 21, total_reward: -240.00\n",
            "Episode: 22, total_reward: -423.00\n",
            "Episode: 23, total_reward: -480.00\n",
            "Episode: 24, total_reward: -500.00\n",
            "Episode: 25, total_reward: -381.00\n",
            "Episode: 26, total_reward: -500.00\n",
            "Episode: 27, total_reward: -431.00\n",
            "Episode: 28, total_reward: -194.00\n",
            "Episode: 29, total_reward: -391.00\n",
            "Episode: 30, total_reward: -224.00\n",
            "Episode: 31, total_reward: -314.00\n",
            "Episode: 32, total_reward: -311.00\n",
            "Episode: 33, total_reward: -370.00\n",
            "Episode: 34, total_reward: -356.00\n",
            "Episode: 35, total_reward: -500.00\n",
            "Episode: 36, total_reward: -382.00\n",
            "Episode: 37, total_reward: -500.00\n",
            "Episode: 38, total_reward: -500.00\n",
            "Episode: 39, total_reward: -325.00\n",
            "Episode: 40, total_reward: -218.00\n",
            "Episode: 41, total_reward: -162.00\n",
            "Episode: 42, total_reward: -141.00\n",
            "Episode: 43, total_reward: -396.00\n",
            "Episode: 44, total_reward: -245.00\n",
            "Episode: 45, total_reward: -260.00\n",
            "Episode: 46, total_reward: -271.00\n",
            "Episode: 47, total_reward: -316.00\n",
            "Episode: 48, total_reward: -320.00\n",
            "Episode: 49, total_reward: -259.00\n",
            "Episode: 50, total_reward: -213.00\n",
            "Episode: 51, total_reward: -152.00\n",
            "Episode: 52, total_reward: -170.00\n",
            "Episode: 53, total_reward: -207.00\n",
            "Episode: 54, total_reward: -243.00\n",
            "Episode: 55, total_reward: -151.00\n",
            "Episode: 56, total_reward: -146.00\n",
            "Episode: 57, total_reward: -230.00\n",
            "Episode: 58, total_reward: -210.00\n",
            "Episode: 59, total_reward: -164.00\n",
            "Episode: 60, total_reward: -139.00\n",
            "Episode: 61, total_reward: -271.00\n",
            "Episode: 62, total_reward: -276.00\n",
            "Episode: 63, total_reward: -162.00\n",
            "Episode: 64, total_reward: -149.00\n",
            "Episode: 65, total_reward: -179.00\n",
            "Episode: 66, total_reward: -199.00\n",
            "Episode: 67, total_reward: -282.00\n",
            "Episode: 68, total_reward: -154.00\n",
            "Episode: 69, total_reward: -202.00\n",
            "Episode: 70, total_reward: -154.00\n",
            "Episode: 71, total_reward: -177.00\n",
            "Episode: 72, total_reward: -194.00\n",
            "Episode: 73, total_reward: -230.00\n",
            "Episode: 74, total_reward: -225.00\n",
            "Episode: 75, total_reward: -132.00\n",
            "Episode: 76, total_reward: -171.00\n",
            "Episode: 77, total_reward: -227.00\n",
            "Episode: 78, total_reward: -149.00\n",
            "Episode: 79, total_reward: -161.00\n",
            "Episode: 80, total_reward: -155.00\n",
            "Episode: 81, total_reward: -233.00\n",
            "Episode: 82, total_reward: -151.00\n",
            "Episode: 83, total_reward: -271.00\n",
            "Episode: 84, total_reward: -167.00\n",
            "Episode: 85, total_reward: -120.00\n",
            "Episode: 86, total_reward: -152.00\n",
            "Episode: 87, total_reward: -146.00\n",
            "Episode: 88, total_reward: -167.00\n",
            "Episode: 89, total_reward: -185.00\n",
            "Episode: 90, total_reward: -183.00\n",
            "Episode: 91, total_reward: -139.00\n",
            "Episode: 92, total_reward: -162.00\n",
            "Episode: 93, total_reward: -182.00\n",
            "Episode: 94, total_reward: -198.00\n",
            "Episode: 95, total_reward: -153.00\n",
            "Episode: 96, total_reward: -172.00\n",
            "Episode: 97, total_reward: -159.00\n",
            "Episode: 98, total_reward: -161.00\n",
            "Episode: 99, total_reward: -171.00\n"
          ]
        }
      ]
    },
    {
      "cell_type": "code",
      "source": [
        "import matplotlib.pyplot as plt\n",
        "%matplotlib inline\n",
        "\n",
        "for n, ep_rewards in enumerate(run_rewards):\n",
        "    x = range(len(ep_rewards))\n",
        "    cumsum = np.cumsum(ep_rewards)\n",
        "    avgs = [cumsum[ep]/(ep+1) if ep<100 else (cumsum[ep]-cumsum[ep-100])/100 for ep in x]\n",
        "    col = \"r\" if (n%2==0) else \"b\"\n",
        "    plt.plot(x, avgs, color=col, label=n)\n",
        "\n",
        "plt.title(\"DDQN vs DQN performance\")\n",
        "plt.xlabel(\"Episode\")\n",
        "plt.ylabel(\"Last 100 episode average rewards\")\n",
        "plt.legend()\n",
        "\n"
      ],
      "metadata": {
        "colab": {
          "base_uri": "https://localhost:8080/",
          "height": 313
        },
        "id": "jYS-aJDootTq",
        "outputId": "1d82ef08-1502-41ba-8c99-19800d96dac6"
      },
      "execution_count": null,
      "outputs": [
        {
          "output_type": "execute_result",
          "data": {
            "text/plain": [
              "<matplotlib.legend.Legend at 0x7fe11e7062b0>"
            ]
          },
          "metadata": {},
          "execution_count": 13
        },
        {
          "output_type": "display_data",
          "data": {
            "text/plain": [
              "<Figure size 432x288 with 1 Axes>"
            ],
            "image/png": "[encoded data removed]"
          },
          "metadata": {
            "needs_background": "light"
          }
        }
      ]
    },
    {
      "cell_type": "code",
      "source": [
        "env.close()"
      ],
      "metadata": {
        "id": "avaOT0Eo7DIE"
      },
      "execution_count": null,
      "outputs": []
    }
  ]
}